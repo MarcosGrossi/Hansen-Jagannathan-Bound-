{
 "cells": [
  {
   "cell_type": "markdown",
   "id": "c041baed-b1fe-4187-9f12-1db44c1d73d2",
   "metadata": {},
   "source": [
    "## Importing Libraries"
   ]
  },
  {
   "cell_type": "code",
   "execution_count": 1,
   "id": "b90fca2c-5926-409b-80e3-ff066a4b8b33",
   "metadata": {},
   "outputs": [],
   "source": [
    "import pandas as pd\n",
    "import matplotlib.pyplot as plt\n",
    "import numpy as np"
   ]
  },
  {
   "cell_type": "markdown",
   "id": "80530843-146b-469a-80f6-fe878ed84784",
   "metadata": {},
   "source": [
    "## Importing Excel File"
   ]
  },
  {
   "cell_type": "code",
   "execution_count": 2,
   "id": "d8195e1b-a83a-46a2-aad4-bc84dadb1717",
   "metadata": {},
   "outputs": [],
   "source": [
    "df = pd.read_excel('data/Shiller_Ch26_data_modified.xlsx')"
   ]
  },
  {
   "cell_type": "code",
   "execution_count": 3,
   "id": "32b0e844-8cab-4eef-997c-ab29bc59cd02",
   "metadata": {},
   "outputs": [
    {
     "name": "stdout",
     "output_type": "stream",
     "text": [
      "Index(['Date', 'S&P', 'Dividends', 'Earnings', 'One-Year', 'Long', 'Consumer',\n",
      "       'Real One-Year Interest Rate', 'Real Per Capita Consumption',\n",
      "       'Unnamed: 9', 'RealP', 'Present', 'Present.1', 'Present.2', 'RealD',\n",
      "       'Real Returns S&P', 'Unnamed: 16', 'RealE', 'Price', 'Ten-Year',\n",
      "       'Price.1'],\n",
      "      dtype='object')\n"
     ]
    }
   ],
   "source": [
    "print(df.columns)"
   ]
  },
  {
   "cell_type": "markdown",
   "id": "29a2c49c-8fc1-44f2-aff6-968e573fb621",
   "metadata": {},
   "source": [
    "## Preparing Data"
   ]
  },
  {
   "cell_type": "code",
   "execution_count": 4,
   "id": "da9c5827-1cf6-4eae-807b-1f9e59fb3405",
   "metadata": {},
   "outputs": [],
   "source": [
    "## Creating a dataframe only with interest rates, consumptioin, and stock returns\n",
    "df = df.loc[:,['Date','Real One-Year Interest Rate','Real Per Capita Consumption','Real Returns S&P']]"
   ]
  },
  {
   "cell_type": "code",
   "execution_count": 5,
   "id": "a7fbc397-78b5-4cdd-b366-69b9a413cee0",
   "metadata": {},
   "outputs": [],
   "source": [
    "df.dropna(inplace=True)"
   ]
  },
  {
   "cell_type": "code",
   "execution_count": 6,
   "id": "3095d9d3-047f-4249-a8b7-c1860c0e72e6",
   "metadata": {},
   "outputs": [
    {
     "data": {
      "text/html": [
       "<div>\n",
       "<style scoped>\n",
       "    .dataframe tbody tr th:only-of-type {\n",
       "        vertical-align: middle;\n",
       "    }\n",
       "\n",
       "    .dataframe tbody tr th {\n",
       "        vertical-align: top;\n",
       "    }\n",
       "\n",
       "    .dataframe thead th {\n",
       "        text-align: right;\n",
       "    }\n",
       "</style>\n",
       "<table border=\"1\" class=\"dataframe\">\n",
       "  <thead>\n",
       "    <tr style=\"text-align: right;\">\n",
       "      <th></th>\n",
       "      <th>Date</th>\n",
       "      <th>Real One-Year Interest Rate</th>\n",
       "      <th>Real Per Capita Consumption</th>\n",
       "      <th>Real Returns S&amp;P</th>\n",
       "    </tr>\n",
       "  </thead>\n",
       "  <tbody>\n",
       "    <tr>\n",
       "      <th>18</th>\n",
       "      <td>1889</td>\n",
       "      <td>1.099140</td>\n",
       "      <td>2731.570142</td>\n",
       "      <td>0.122137</td>\n",
       "    </tr>\n",
       "    <tr>\n",
       "      <th>19</th>\n",
       "      <td>1890</td>\n",
       "      <td>1.028390</td>\n",
       "      <td>2674.739801</td>\n",
       "      <td>-0.082419</td>\n",
       "    </tr>\n",
       "    <tr>\n",
       "      <th>20</th>\n",
       "      <td>1891</td>\n",
       "      <td>1.128512</td>\n",
       "      <td>2802.827499</td>\n",
       "      <td>0.260760</td>\n",
       "    </tr>\n",
       "    <tr>\n",
       "      <th>21</th>\n",
       "      <td>1892</td>\n",
       "      <td>0.964169</td>\n",
       "      <td>2877.010456</td>\n",
       "      <td>-0.015044</td>\n",
       "    </tr>\n",
       "    <tr>\n",
       "      <th>22</th>\n",
       "      <td>1893</td>\n",
       "      <td>1.250995</td>\n",
       "      <td>2834.846162</td>\n",
       "      <td>-0.060927</td>\n",
       "    </tr>\n",
       "  </tbody>\n",
       "</table>\n",
       "</div>"
      ],
      "text/plain": [
       "    Date  Real One-Year Interest Rate  Real Per Capita Consumption  \\\n",
       "18  1889                     1.099140                  2731.570142   \n",
       "19  1890                     1.028390                  2674.739801   \n",
       "20  1891                     1.128512                  2802.827499   \n",
       "21  1892                     0.964169                  2877.010456   \n",
       "22  1893                     1.250995                  2834.846162   \n",
       "\n",
       "    Real Returns S&P  \n",
       "18          0.122137  \n",
       "19         -0.082419  \n",
       "20          0.260760  \n",
       "21         -0.015044  \n",
       "22         -0.060927  "
      ]
     },
     "execution_count": 6,
     "metadata": {},
     "output_type": "execute_result"
    }
   ],
   "source": [
    "df.head(5)"
   ]
  },
  {
   "cell_type": "code",
   "execution_count": 7,
   "id": "ec4d9562-3760-4533-8bf6-defafd309eb8",
   "metadata": {},
   "outputs": [],
   "source": [
    "## Obtaining Gross Returns \n",
    "df['Gross Returns S&P'] = 1 + df['Real Returns S&P']"
   ]
  },
  {
   "cell_type": "code",
   "execution_count": 8,
   "id": "7a85618c-9ad8-4b50-8060-1c5505d4b6d3",
   "metadata": {},
   "outputs": [],
   "source": [
    "## Obtaining Consumption Growth \n",
    "df['Consumption Growth'] = df['Real Per Capita Consumption'].pct_change() + 1"
   ]
  },
  {
   "cell_type": "code",
   "execution_count": 9,
   "id": "dc6cc68e-7a6b-4b0c-968e-b48d38fce76e",
   "metadata": {},
   "outputs": [],
   "source": [
    "df.dropna(inplace=True)"
   ]
  },
  {
   "cell_type": "code",
   "execution_count": 10,
   "id": "da13b6fc-e95c-4cda-80d6-f4b75335b2d7",
   "metadata": {},
   "outputs": [
    {
     "data": {
      "text/html": [
       "<div>\n",
       "<style scoped>\n",
       "    .dataframe tbody tr th:only-of-type {\n",
       "        vertical-align: middle;\n",
       "    }\n",
       "\n",
       "    .dataframe tbody tr th {\n",
       "        vertical-align: top;\n",
       "    }\n",
       "\n",
       "    .dataframe thead th {\n",
       "        text-align: right;\n",
       "    }\n",
       "</style>\n",
       "<table border=\"1\" class=\"dataframe\">\n",
       "  <thead>\n",
       "    <tr style=\"text-align: right;\">\n",
       "      <th></th>\n",
       "      <th>Date</th>\n",
       "      <th>Real One-Year Interest Rate</th>\n",
       "      <th>Real Per Capita Consumption</th>\n",
       "      <th>Real Returns S&amp;P</th>\n",
       "      <th>Gross Returns S&amp;P</th>\n",
       "      <th>Consumption Growth</th>\n",
       "    </tr>\n",
       "  </thead>\n",
       "  <tbody>\n",
       "    <tr>\n",
       "      <th>19</th>\n",
       "      <td>1890</td>\n",
       "      <td>1.028390</td>\n",
       "      <td>2674.739801</td>\n",
       "      <td>-0.082419</td>\n",
       "      <td>0.917581</td>\n",
       "      <td>0.979195</td>\n",
       "    </tr>\n",
       "    <tr>\n",
       "      <th>20</th>\n",
       "      <td>1891</td>\n",
       "      <td>1.128512</td>\n",
       "      <td>2802.827499</td>\n",
       "      <td>0.260760</td>\n",
       "      <td>1.260760</td>\n",
       "      <td>1.047888</td>\n",
       "    </tr>\n",
       "    <tr>\n",
       "      <th>21</th>\n",
       "      <td>1892</td>\n",
       "      <td>0.964169</td>\n",
       "      <td>2877.010456</td>\n",
       "      <td>-0.015044</td>\n",
       "      <td>0.984956</td>\n",
       "      <td>1.026467</td>\n",
       "    </tr>\n",
       "    <tr>\n",
       "      <th>22</th>\n",
       "      <td>1893</td>\n",
       "      <td>1.250995</td>\n",
       "      <td>2834.846162</td>\n",
       "      <td>-0.060927</td>\n",
       "      <td>0.939073</td>\n",
       "      <td>0.985344</td>\n",
       "    </tr>\n",
       "    <tr>\n",
       "      <th>23</th>\n",
       "      <td>1894</td>\n",
       "      <td>1.078121</td>\n",
       "      <td>2698.707529</td>\n",
       "      <td>0.077294</td>\n",
       "      <td>1.077294</td>\n",
       "      <td>0.951977</td>\n",
       "    </tr>\n",
       "  </tbody>\n",
       "</table>\n",
       "</div>"
      ],
      "text/plain": [
       "    Date  Real One-Year Interest Rate  Real Per Capita Consumption  \\\n",
       "19  1890                     1.028390                  2674.739801   \n",
       "20  1891                     1.128512                  2802.827499   \n",
       "21  1892                     0.964169                  2877.010456   \n",
       "22  1893                     1.250995                  2834.846162   \n",
       "23  1894                     1.078121                  2698.707529   \n",
       "\n",
       "    Real Returns S&P  Gross Returns S&P  Consumption Growth  \n",
       "19         -0.082419           0.917581            0.979195  \n",
       "20          0.260760           1.260760            1.047888  \n",
       "21         -0.015044           0.984956            1.026467  \n",
       "22         -0.060927           0.939073            0.985344  \n",
       "23          0.077294           1.077294            0.951977  "
      ]
     },
     "execution_count": 10,
     "metadata": {},
     "output_type": "execute_result"
    }
   ],
   "source": [
    "df.head(5)"
   ]
  },
  {
   "cell_type": "markdown",
   "id": "03eba31c-6fd1-444d-9b5b-2a42088bd312",
   "metadata": {},
   "source": [
    "## Computing the Hansen-Jagannathan Bound\n",
    "\n",
    "Let $R_t=\\left[R_{t,1},\\ldots,R_{t,N}\\right]^\\prime$ where we have\n",
    "\n",
    "$R_{t,1}=$ Real One-Year Interest Rate\n",
    "\n",
    "$R_{t,2}=$ Gross Returns S&P\n",
    "\n",
    "The Hansen-Jagannathan Bound is calculated through the following calculation:\n",
    "\n",
    "$\\sigma_m=\\sqrt{\\left(1-\\mu_R\\mu_m\\right)^\\prime\\Sigma^{-1}\\left(1-\\mu_R\\mu_m\\right)}$\n",
    "\n",
    "where\n",
    "\n",
    "$ \\sigma_{m} $ is the standard deviation of the stochastic discount factor $ m $.\n",
    "\n",
    "1 is a vector of ones (we measure $E[m]$ as something near “one”, i.e. normalized).\n",
    "\n",
    "$ \\mu_R $ is the vector of expected returns on the set of assets.\n",
    "\n",
    "$ \\mu_m $ is the mean of $ m $.\n",
    "\n",
    "$ Σ $ is the covariance matrix."
   ]
  },
  {
   "cell_type": "code",
   "execution_count": 11,
   "id": "a194c5c9-2836-4f24-97e7-d9aadab1ba0a",
   "metadata": {},
   "outputs": [],
   "source": [
    "## Obtaining the values for interest rate and gross returns\n",
    "R = df[['Real One-Year Interest Rate', 'Gross Returns S&P']].values\n",
    "\n",
    "## Creating a vector of means for interest rate and gross returns\n",
    "mu_R = R.mean(axis=0) # Calculating the mean of each column (axis=0) from the matrix\n",
    "\n",
    "## Creating the covariance matrix of returns\n",
    "Sigma = np.cov(R, rowvar = False) # Variables as columns (rowvar = False)\n",
    "Sigma_inv = np.linalg.inv(Sigma)\n",
    "\n",
    "## Obtaining mu_m \n",
    "mu_m_values = np.linspace(start=0, stop=2, num=200) # Setting sequence of 200 (range) numbers with equal spacing\n",
    "sigma_m_values = []\n",
    "\n",
    "## Storing mu_m\n",
    "for mu_m in mu_m_values:\n",
    "    ones = np.ones(mu_R.shape) # Creating an array of ones\n",
    "    diff = ones - mu_R * mu_m   # Element-wise multiplication\n",
    "    val = diff @ Sigma_inv @ diff.T # Matrix multiplication (@)\n",
    "    sigma_m = np.sqrt(val) \n",
    "    sigma_m_values.append(sigma_m)"
   ]
  },
  {
   "cell_type": "markdown",
   "id": "e63f5ddd-a008-4910-8fd7-8a4a8c3f4a16",
   "metadata": {},
   "source": [
    "## Computing the Theoritical SDF from CRRA Preferences\n",
    "\n",
    "The implied SDF under time-additive, CRRA preferences is given by:\n",
    "\n",
    "$m_{t+1}=\\beta\\left(\\frac{C_{t+1}}{C_t}\\right)^{-\\gamma}$\n",
    "\n",
    "where\n",
    "\n",
    "${\\beta}=0.99$ (time discount factor)\n",
    "\n",
    "${\\gamma}=1,2,...,40$ (coefficient of relative risk aversion.)\n",
    "\n",
    "$(\\frac{C_{t+1}}{C_t})=$ Consumption Growth"
   ]
  },
  {
   "cell_type": "code",
   "execution_count": 12,
   "id": "7969baf2-8c59-4622-84c7-caa7da127d6c",
   "metadata": {},
   "outputs": [],
   "source": [
    "## Storing the values for consumption growth\n",
    "consumption_growth = df['Consumption Growth'].values\n",
    "\n",
    "## Setting input parameters\n",
    "bet = 0.99\n",
    "gammas = range(1,41)\n",
    "crra_means = []\n",
    "crra_stds = [] \n",
    "\n",
    "for g in gammas:\n",
    "    m_g = bet * (consumption_growth **(-g))\n",
    "    crra_means.append(m_g.mean())\n",
    "    crra_stds.append(m_g.std())"
   ]
  },
  {
   "cell_type": "markdown",
   "id": "e979aabf-3391-430c-88e0-202dc432b0c7",
   "metadata": {},
   "source": [
    "## Plotting the theoretical stochastic discount factors along with the Hansen-Jagannathan bound"
   ]
  },
  {
   "cell_type": "code",
   "execution_count": 13,
   "id": "4ee9f1b1-78b6-415a-9ae8-a4e9a666e5cc",
   "metadata": {},
   "outputs": [
    {
     "data": {
      "image/png": "[encoded data removed]",
      "text/plain": [
       "<Figure size 800x600 with 1 Axes>"
      ]
     },
     "metadata": {},
     "output_type": "display_data"
    }
   ],
   "source": [
    "fig, ax = plt.subplots(figsize=(8, 6))\n",
    "\n",
    "## Ploting the HJ bound as a line\n",
    "ax.plot(mu_m_values, sigma_m_values, color='black', linewidth=2, label='Hansen-Jagannathan Bound')\n",
    "\n",
    "## Ploting the CRRA-implied SDF points as scatter\n",
    "ax.scatter(crra_means, crra_stds, color='red', s=50, marker='o', label='CRRA Implied SDF')\n",
    "\n",
    "## Adding grid, labels, and legend\n",
    "ax.set_xlabel(r'$\\bar{m}$', fontsize=14)  ## Mean of SDF on x-axis\n",
    "ax.set_ylabel(r'$\\sigma(m)$', fontsize=14)  ## Std of SDF on y-axis\n",
    "ax.set_title('Feasible Region for Stochastic Discount Factors', fontsize=16)\n",
    "ax.grid(True, which='both', linestyle='--', alpha=0.7)\n",
    "ax.legend(fontsize=12)\n",
    "\n",
    "plt.tight_layout()\n",
    "plt.savefig('HJ bound and stochastic discount factors.png')\n",
    "plt.show()"
   ]
  },
  {
   "cell_type": "markdown",
   "id": "b06b0d63-6c24-463d-b7b9-bf634703d932",
   "metadata": {},
   "source": [
    "The Hansen-Jagannathan Bound provides the smallest possible volatility $ {\\sigma(m)} $ that a SDF with that mean $ \\bar{m}$ could have.\n",
    "\n",
    "The CRRA dots are actual estimates of $ (\\bar{m},\\sigma(m)) $ that come from a basic consumption-based model at various risk-aversion levels.\n",
    "\n",
    "If a CRRA point lies above the HJ bound curve, it is feasible (it doesn’t violate no-arbitrage).\n",
    "\n",
    "If a point were to lie below the HJ curve, it would be impossible under the observed returns (the model would be ruling out profitable trades that the real data allows).\n",
    "\n",
    "As $ \\gamma $ is becomes larger, we can observe that bad states (low consumption) get much higher weight in pricing assets. This means that investors value future payoffs in these bad states extremely highly.\n",
    "\n",
    "Risk-averse investors prefer smooth consumption; they suffer much more from big drops in consumption than they benefit from equally big increases.\n",
    "\n",
    "As $ \\gamma $ goes to infinity, investors become “infinitely averse” to bad outcomes."
   ]
  },
  {
   "cell_type": "code",
   "execution_count": null,
   "id": "c33ed106-1046-4ed9-a7a8-8432d95e7ba7",
   "metadata": {},
   "outputs": [],
   "source": []
  }
 ],
 "metadata": {
  "kernelspec": {
   "display_name": "Python 3 (ipykernel)",
   "language": "python",
   "name": "python3"
  },
  "language_info": {
   "codemirror_mode": {
    "name": "ipython",
    "version": 3
   },
   "file_extension": ".py",
   "mimetype": "text/x-python",
   "name": "python",
   "nbconvert_exporter": "python",
   "pygments_lexer": "ipython3",
   "version": "3.12.8"
  }
 },
 "nbformat": 4,
 "nbformat_minor": 5
}
